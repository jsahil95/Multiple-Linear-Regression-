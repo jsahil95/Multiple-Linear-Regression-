{
 "cells": [
  {
   "cell_type": "code",
   "execution_count": 44,
   "metadata": {},
   "outputs": [],
   "source": [
    "import os \n",
    "import pandas as pd\n",
    "import matplotlib.pyplot as plt\n",
    "import numpy as np  \n",
    "import statsmodels.api as sm\n",
    "import statsmodels.formula.api as smf \n",
    "from scipy.stats import t as tdist \n",
    "import scipy.stats as stats\n",
    "from statsmodels.stats.outliers_influence import summary_table\n",
    "get_ipython().magic(u'matplotlib inline')\n",
    "from statsmodels.sandbox.regression.predstd import wls_prediction_std as pi"
   ]
  },
  {
   "cell_type": "code",
   "execution_count": 45,
   "metadata": {},
   "outputs": [
    {
     "data": {
      "text/plain": [
       "'/Users/sahiljain/Downloads'"
      ]
     },
     "execution_count": 45,
     "metadata": {},
     "output_type": "execute_result"
    }
   ],
   "source": [
    "os.getcwd()"
   ]
  },
  {
   "cell_type": "code",
   "execution_count": 46,
   "metadata": {
    "collapsed": true
   },
   "outputs": [],
   "source": [
    "os.chdir(\"/Users/sahiljain/Downloads/\")"
   ]
  },
  {
   "cell_type": "code",
   "execution_count": 47,
   "metadata": {
    "collapsed": true
   },
   "outputs": [],
   "source": [
    "bostonData = pd.read_csv('boston.csv')"
   ]
  },
  {
   "cell_type": "code",
   "execution_count": 48,
   "metadata": {
    "collapsed": true
   },
   "outputs": [],
   "source": [
    "# First we will assign these variables a identifier \n",
    "# for eg. y = medv (response variable), x1,x2...xn as our \n",
    "# explanatory variable. "
   ]
  },
  {
   "cell_type": "code",
   "execution_count": 49,
   "metadata": {
    "collapsed": true
   },
   "outputs": [],
   "source": [
    "y = bostonData[\"medv\"]\n",
    "x1 = bostonData[\"crim\"]\n",
    "x2 = bostonData[\"zn\"]\n",
    "x3 = bostonData[\"indus\"]\n",
    "x4 = bostonData[\"chas\"]\n",
    "x5 = bostonData[\"nox\"]\n",
    "x6 = bostonData[\"rm\"]\n",
    "x7 = bostonData[\"age\"]\n",
    "x8 = bostonData[\"dis\"]\n",
    "x9 = bostonData[\"rad\"]\n",
    "x10 = bostonData[\"tax\"]\n",
    "x11 = bostonData[\"ptratio\"]\n",
    "x12 = bostonData[\"lstat\"]"
   ]
  },
  {
   "cell_type": "code",
   "execution_count": 50,
   "metadata": {
    "collapsed": true
   },
   "outputs": [],
   "source": [
    "#(A) Fit a multiple lineaer regression relating medv to all \n",
    "# of explanatory variables listed above and calculate and \n",
    "# interpret that value of R^2. "
   ]
  },
  {
   "cell_type": "code",
   "execution_count": 51,
   "metadata": {},
   "outputs": [
    {
     "data": {
      "text/html": [
       "<table class=\"simpletable\">\n",
       "<caption>OLS Regression Results</caption>\n",
       "<tr>\n",
       "  <th>Dep. Variable:</th>            <td>y</td>        <th>  R-squared:         </th> <td>   0.734</td> \n",
       "</tr>\n",
       "<tr>\n",
       "  <th>Model:</th>                   <td>OLS</td>       <th>  Adj. R-squared:    </th> <td>   0.728</td> \n",
       "</tr>\n",
       "<tr>\n",
       "  <th>Method:</th>             <td>Least Squares</td>  <th>  F-statistic:       </th> <td>   113.5</td> \n",
       "</tr>\n",
       "<tr>\n",
       "  <th>Date:</th>             <td>Thu, 19 Oct 2017</td> <th>  Prob (F-statistic):</th> <td>2.23e-133</td>\n",
       "</tr>\n",
       "<tr>\n",
       "  <th>Time:</th>                 <td>22:29:38</td>     <th>  Log-Likelihood:    </th> <td> -1504.9</td> \n",
       "</tr>\n",
       "<tr>\n",
       "  <th>No. Observations:</th>      <td>   506</td>      <th>  AIC:               </th> <td>   3036.</td> \n",
       "</tr>\n",
       "<tr>\n",
       "  <th>Df Residuals:</th>          <td>   493</td>      <th>  BIC:               </th> <td>   3091.</td> \n",
       "</tr>\n",
       "<tr>\n",
       "  <th>Df Model:</th>              <td>    12</td>      <th>                     </th>     <td> </td>    \n",
       "</tr>\n",
       "<tr>\n",
       "  <th>Covariance Type:</th>      <td>nonrobust</td>    <th>                     </th>     <td> </td>    \n",
       "</tr>\n",
       "</table>\n",
       "<table class=\"simpletable\">\n",
       "<tr>\n",
       "      <td></td>         <th>coef</th>     <th>std err</th>      <th>t</th>      <th>P>|t|</th>  <th>[0.025</th>    <th>0.975]</th>  \n",
       "</tr>\n",
       "<tr>\n",
       "  <th>Intercept</th> <td>   41.6173</td> <td>    4.936</td> <td>    8.431</td> <td> 0.000</td> <td>   31.919</td> <td>   51.316</td>\n",
       "</tr>\n",
       "<tr>\n",
       "  <th>x1</th>        <td>   -0.1214</td> <td>    0.033</td> <td>   -3.678</td> <td> 0.000</td> <td>   -0.186</td> <td>   -0.057</td>\n",
       "</tr>\n",
       "<tr>\n",
       "  <th>x2</th>        <td>    0.0470</td> <td>    0.014</td> <td>    3.384</td> <td> 0.001</td> <td>    0.020</td> <td>    0.074</td>\n",
       "</tr>\n",
       "<tr>\n",
       "  <th>x3</th>        <td>    0.0135</td> <td>    0.062</td> <td>    0.217</td> <td> 0.829</td> <td>   -0.109</td> <td>    0.136</td>\n",
       "</tr>\n",
       "<tr>\n",
       "  <th>x4</th>        <td>    2.8400</td> <td>    0.870</td> <td>    3.264</td> <td> 0.001</td> <td>    1.131</td> <td>    4.549</td>\n",
       "</tr>\n",
       "<tr>\n",
       "  <th>x5</th>        <td>  -18.7580</td> <td>    3.851</td> <td>   -4.870</td> <td> 0.000</td> <td>  -26.325</td> <td>  -11.191</td>\n",
       "</tr>\n",
       "<tr>\n",
       "  <th>x6</th>        <td>    3.6581</td> <td>    0.420</td> <td>    8.705</td> <td> 0.000</td> <td>    2.832</td> <td>    4.484</td>\n",
       "</tr>\n",
       "<tr>\n",
       "  <th>x7</th>        <td>    0.0036</td> <td>    0.013</td> <td>    0.271</td> <td> 0.787</td> <td>   -0.023</td> <td>    0.030</td>\n",
       "</tr>\n",
       "<tr>\n",
       "  <th>x8</th>        <td>   -1.4908</td> <td>    0.202</td> <td>   -7.394</td> <td> 0.000</td> <td>   -1.887</td> <td>   -1.095</td>\n",
       "</tr>\n",
       "<tr>\n",
       "  <th>x9</th>        <td>    0.2894</td> <td>    0.067</td> <td>    4.325</td> <td> 0.000</td> <td>    0.158</td> <td>    0.421</td>\n",
       "</tr>\n",
       "<tr>\n",
       "  <th>x10</th>       <td>   -0.0127</td> <td>    0.004</td> <td>   -3.337</td> <td> 0.001</td> <td>   -0.020</td> <td>   -0.005</td>\n",
       "</tr>\n",
       "<tr>\n",
       "  <th>x11</th>       <td>   -0.9375</td> <td>    0.132</td> <td>   -7.091</td> <td> 0.000</td> <td>   -1.197</td> <td>   -0.678</td>\n",
       "</tr>\n",
       "<tr>\n",
       "  <th>x12</th>       <td>   -0.5520</td> <td>    0.051</td> <td>  -10.897</td> <td> 0.000</td> <td>   -0.652</td> <td>   -0.452</td>\n",
       "</tr>\n",
       "</table>\n",
       "<table class=\"simpletable\">\n",
       "<tr>\n",
       "  <th>Omnibus:</th>       <td>171.096</td> <th>  Durbin-Watson:     </th> <td>   1.077</td> \n",
       "</tr>\n",
       "<tr>\n",
       "  <th>Prob(Omnibus):</th> <td> 0.000</td>  <th>  Jarque-Bera (JB):  </th> <td> 709.937</td> \n",
       "</tr>\n",
       "<tr>\n",
       "  <th>Skew:</th>          <td> 1.477</td>  <th>  Prob(JB):          </th> <td>6.90e-155</td>\n",
       "</tr>\n",
       "<tr>\n",
       "  <th>Kurtosis:</th>      <td> 7.995</td>  <th>  Cond. No.          </th> <td>1.17e+04</td> \n",
       "</tr>\n",
       "</table>"
      ],
      "text/plain": [
       "<class 'statsmodels.iolib.summary.Summary'>\n",
       "\"\"\"\n",
       "                            OLS Regression Results                            \n",
       "==============================================================================\n",
       "Dep. Variable:                      y   R-squared:                       0.734\n",
       "Model:                            OLS   Adj. R-squared:                  0.728\n",
       "Method:                 Least Squares   F-statistic:                     113.5\n",
       "Date:                Thu, 19 Oct 2017   Prob (F-statistic):          2.23e-133\n",
       "Time:                        22:29:38   Log-Likelihood:                -1504.9\n",
       "No. Observations:                 506   AIC:                             3036.\n",
       "Df Residuals:                     493   BIC:                             3091.\n",
       "Df Model:                          12                                         \n",
       "Covariance Type:            nonrobust                                         \n",
       "==============================================================================\n",
       "                 coef    std err          t      P>|t|      [0.025      0.975]\n",
       "------------------------------------------------------------------------------\n",
       "Intercept     41.6173      4.936      8.431      0.000      31.919      51.316\n",
       "x1            -0.1214      0.033     -3.678      0.000      -0.186      -0.057\n",
       "x2             0.0470      0.014      3.384      0.001       0.020       0.074\n",
       "x3             0.0135      0.062      0.217      0.829      -0.109       0.136\n",
       "x4             2.8400      0.870      3.264      0.001       1.131       4.549\n",
       "x5           -18.7580      3.851     -4.870      0.000     -26.325     -11.191\n",
       "x6             3.6581      0.420      8.705      0.000       2.832       4.484\n",
       "x7             0.0036      0.013      0.271      0.787      -0.023       0.030\n",
       "x8            -1.4908      0.202     -7.394      0.000      -1.887      -1.095\n",
       "x9             0.2894      0.067      4.325      0.000       0.158       0.421\n",
       "x10           -0.0127      0.004     -3.337      0.001      -0.020      -0.005\n",
       "x11           -0.9375      0.132     -7.091      0.000      -1.197      -0.678\n",
       "x12           -0.5520      0.051    -10.897      0.000      -0.652      -0.452\n",
       "==============================================================================\n",
       "Omnibus:                      171.096   Durbin-Watson:                   1.077\n",
       "Prob(Omnibus):                  0.000   Jarque-Bera (JB):              709.937\n",
       "Skew:                           1.477   Prob(JB):                    6.90e-155\n",
       "Kurtosis:                       7.995   Cond. No.                     1.17e+04\n",
       "==============================================================================\n",
       "\n",
       "Warnings:\n",
       "[1] Standard Errors assume that the covariance matrix of the errors is correctly specified.\n",
       "[2] The condition number is large, 1.17e+04. This might indicate that there are\n",
       "strong multicollinearity or other numerical problems.\n",
       "\"\"\""
      ]
     },
     "execution_count": 51,
     "metadata": {},
     "output_type": "execute_result"
    }
   ],
   "source": [
    "lm = smf.ols('y ~ x1 + x2 + x3 + x4 + x5 + x6 + x7 + x8 + x9 + x10 + x11 + x12', data = bostonData)\n",
    "model1 = lm.fit()\n",
    "model1.summary()"
   ]
  },
  {
   "cell_type": "code",
   "execution_count": 52,
   "metadata": {},
   "outputs": [
    {
     "name": "stdout",
     "output_type": "stream",
     "text": [
      "             df        sum_sq       mean_sq           F        PR(>F)\n",
      "x1          1.0   6440.783059   6440.783059  279.776974  4.526858e-50\n",
      "x2          1.0   3554.336197   3554.336197  154.394491  4.982120e-31\n",
      "x3          1.0   2551.236435   2551.236435  110.821495  1.630882e-23\n",
      "x4          1.0   1529.847881   1529.847881   66.454064  2.981730e-15\n",
      "x5          1.0     76.247648     76.247648    3.312072  6.937901e-02\n",
      "x6          1.0  10938.116611  10938.116611  475.133712  2.901710e-74\n",
      "x7          1.0     90.267911     90.267911    3.921089  4.823953e-02\n",
      "x8          1.0   1779.501111   1779.501111   77.298588  2.462547e-17\n",
      "x9          1.0     34.134323     34.134323    1.482739  2.239290e-01\n",
      "x10         1.0    329.554069    329.554069   14.315284  1.736099e-04\n",
      "x11         1.0   1309.309339   1309.309339   56.874234  2.251728e-13\n",
      "x12         1.0   2733.542023   2733.542023  118.740549  6.392118e-25\n",
      "Residual  493.0  11349.418808     23.021133         NaN           NaN\n"
     ]
    },
    {
     "data": {
      "text/html": [
       "<table class=\"simpletable\">\n",
       "<caption>OLS Regression Results</caption>\n",
       "<tr>\n",
       "  <th>Dep. Variable:</th>            <td>y</td>        <th>  R-squared:         </th> <td>   0.734</td> \n",
       "</tr>\n",
       "<tr>\n",
       "  <th>Model:</th>                   <td>OLS</td>       <th>  Adj. R-squared:    </th> <td>   0.728</td> \n",
       "</tr>\n",
       "<tr>\n",
       "  <th>Method:</th>             <td>Least Squares</td>  <th>  F-statistic:       </th> <td>   113.5</td> \n",
       "</tr>\n",
       "<tr>\n",
       "  <th>Date:</th>             <td>Thu, 19 Oct 2017</td> <th>  Prob (F-statistic):</th> <td>2.23e-133</td>\n",
       "</tr>\n",
       "<tr>\n",
       "  <th>Time:</th>                 <td>22:29:38</td>     <th>  Log-Likelihood:    </th> <td> -1504.9</td> \n",
       "</tr>\n",
       "<tr>\n",
       "  <th>No. Observations:</th>      <td>   506</td>      <th>  AIC:               </th> <td>   3036.</td> \n",
       "</tr>\n",
       "<tr>\n",
       "  <th>Df Residuals:</th>          <td>   493</td>      <th>  BIC:               </th> <td>   3091.</td> \n",
       "</tr>\n",
       "<tr>\n",
       "  <th>Df Model:</th>              <td>    12</td>      <th>                     </th>     <td> </td>    \n",
       "</tr>\n",
       "<tr>\n",
       "  <th>Covariance Type:</th>      <td>nonrobust</td>    <th>                     </th>     <td> </td>    \n",
       "</tr>\n",
       "</table>\n",
       "<table class=\"simpletable\">\n",
       "<tr>\n",
       "      <td></td>         <th>coef</th>     <th>std err</th>      <th>t</th>      <th>P>|t|</th>  <th>[0.025</th>    <th>0.975]</th>  \n",
       "</tr>\n",
       "<tr>\n",
       "  <th>Intercept</th> <td>   41.6173</td> <td>    4.936</td> <td>    8.431</td> <td> 0.000</td> <td>   31.919</td> <td>   51.316</td>\n",
       "</tr>\n",
       "<tr>\n",
       "  <th>x1</th>        <td>   -0.1214</td> <td>    0.033</td> <td>   -3.678</td> <td> 0.000</td> <td>   -0.186</td> <td>   -0.057</td>\n",
       "</tr>\n",
       "<tr>\n",
       "  <th>x2</th>        <td>    0.0470</td> <td>    0.014</td> <td>    3.384</td> <td> 0.001</td> <td>    0.020</td> <td>    0.074</td>\n",
       "</tr>\n",
       "<tr>\n",
       "  <th>x3</th>        <td>    0.0135</td> <td>    0.062</td> <td>    0.217</td> <td> 0.829</td> <td>   -0.109</td> <td>    0.136</td>\n",
       "</tr>\n",
       "<tr>\n",
       "  <th>x4</th>        <td>    2.8400</td> <td>    0.870</td> <td>    3.264</td> <td> 0.001</td> <td>    1.131</td> <td>    4.549</td>\n",
       "</tr>\n",
       "<tr>\n",
       "  <th>x5</th>        <td>  -18.7580</td> <td>    3.851</td> <td>   -4.870</td> <td> 0.000</td> <td>  -26.325</td> <td>  -11.191</td>\n",
       "</tr>\n",
       "<tr>\n",
       "  <th>x6</th>        <td>    3.6581</td> <td>    0.420</td> <td>    8.705</td> <td> 0.000</td> <td>    2.832</td> <td>    4.484</td>\n",
       "</tr>\n",
       "<tr>\n",
       "  <th>x7</th>        <td>    0.0036</td> <td>    0.013</td> <td>    0.271</td> <td> 0.787</td> <td>   -0.023</td> <td>    0.030</td>\n",
       "</tr>\n",
       "<tr>\n",
       "  <th>x8</th>        <td>   -1.4908</td> <td>    0.202</td> <td>   -7.394</td> <td> 0.000</td> <td>   -1.887</td> <td>   -1.095</td>\n",
       "</tr>\n",
       "<tr>\n",
       "  <th>x9</th>        <td>    0.2894</td> <td>    0.067</td> <td>    4.325</td> <td> 0.000</td> <td>    0.158</td> <td>    0.421</td>\n",
       "</tr>\n",
       "<tr>\n",
       "  <th>x10</th>       <td>   -0.0127</td> <td>    0.004</td> <td>   -3.337</td> <td> 0.001</td> <td>   -0.020</td> <td>   -0.005</td>\n",
       "</tr>\n",
       "<tr>\n",
       "  <th>x11</th>       <td>   -0.9375</td> <td>    0.132</td> <td>   -7.091</td> <td> 0.000</td> <td>   -1.197</td> <td>   -0.678</td>\n",
       "</tr>\n",
       "<tr>\n",
       "  <th>x12</th>       <td>   -0.5520</td> <td>    0.051</td> <td>  -10.897</td> <td> 0.000</td> <td>   -0.652</td> <td>   -0.452</td>\n",
       "</tr>\n",
       "</table>\n",
       "<table class=\"simpletable\">\n",
       "<tr>\n",
       "  <th>Omnibus:</th>       <td>171.096</td> <th>  Durbin-Watson:     </th> <td>   1.077</td> \n",
       "</tr>\n",
       "<tr>\n",
       "  <th>Prob(Omnibus):</th> <td> 0.000</td>  <th>  Jarque-Bera (JB):  </th> <td> 709.937</td> \n",
       "</tr>\n",
       "<tr>\n",
       "  <th>Skew:</th>          <td> 1.477</td>  <th>  Prob(JB):          </th> <td>6.90e-155</td>\n",
       "</tr>\n",
       "<tr>\n",
       "  <th>Kurtosis:</th>      <td> 7.995</td>  <th>  Cond. No.          </th> <td>1.17e+04</td> \n",
       "</tr>\n",
       "</table>"
      ],
      "text/plain": [
       "<class 'statsmodels.iolib.summary.Summary'>\n",
       "\"\"\"\n",
       "                            OLS Regression Results                            \n",
       "==============================================================================\n",
       "Dep. Variable:                      y   R-squared:                       0.734\n",
       "Model:                            OLS   Adj. R-squared:                  0.728\n",
       "Method:                 Least Squares   F-statistic:                     113.5\n",
       "Date:                Thu, 19 Oct 2017   Prob (F-statistic):          2.23e-133\n",
       "Time:                        22:29:38   Log-Likelihood:                -1504.9\n",
       "No. Observations:                 506   AIC:                             3036.\n",
       "Df Residuals:                     493   BIC:                             3091.\n",
       "Df Model:                          12                                         \n",
       "Covariance Type:            nonrobust                                         \n",
       "==============================================================================\n",
       "                 coef    std err          t      P>|t|      [0.025      0.975]\n",
       "------------------------------------------------------------------------------\n",
       "Intercept     41.6173      4.936      8.431      0.000      31.919      51.316\n",
       "x1            -0.1214      0.033     -3.678      0.000      -0.186      -0.057\n",
       "x2             0.0470      0.014      3.384      0.001       0.020       0.074\n",
       "x3             0.0135      0.062      0.217      0.829      -0.109       0.136\n",
       "x4             2.8400      0.870      3.264      0.001       1.131       4.549\n",
       "x5           -18.7580      3.851     -4.870      0.000     -26.325     -11.191\n",
       "x6             3.6581      0.420      8.705      0.000       2.832       4.484\n",
       "x7             0.0036      0.013      0.271      0.787      -0.023       0.030\n",
       "x8            -1.4908      0.202     -7.394      0.000      -1.887      -1.095\n",
       "x9             0.2894      0.067      4.325      0.000       0.158       0.421\n",
       "x10           -0.0127      0.004     -3.337      0.001      -0.020      -0.005\n",
       "x11           -0.9375      0.132     -7.091      0.000      -1.197      -0.678\n",
       "x12           -0.5520      0.051    -10.897      0.000      -0.652      -0.452\n",
       "==============================================================================\n",
       "Omnibus:                      171.096   Durbin-Watson:                   1.077\n",
       "Prob(Omnibus):                  0.000   Jarque-Bera (JB):              709.937\n",
       "Skew:                           1.477   Prob(JB):                    6.90e-155\n",
       "Kurtosis:                       7.995   Cond. No.                     1.17e+04\n",
       "==============================================================================\n",
       "\n",
       "Warnings:\n",
       "[1] Standard Errors assume that the covariance matrix of the errors is correctly specified.\n",
       "[2] The condition number is large, 1.17e+04. This might indicate that there are\n",
       "strong multicollinearity or other numerical problems.\n",
       "\"\"\""
      ]
     },
     "execution_count": 52,
     "metadata": {},
     "output_type": "execute_result"
    }
   ],
   "source": [
    "table = sm.stats.anova_lm(model1, type = 2)\n",
    "print(table)\n",
    "model1.summary()"
   ]
  },
  {
   "cell_type": "code",
   "execution_count": 53,
   "metadata": {
    "collapsed": true
   },
   "outputs": [],
   "source": [
    "# Interpretation :  R squared in calculated by dividing \n",
    "# Residual sum of squares/ total sum of squares. In this \n",
    "# model the SSR = 31366.7, value of SSE = 11349.5, value of \n",
    "# SST = 42716.1. R^2 = SSR/SST = 31366.7/42716.2 = .7343, \n",
    "# meaning that the fitted model explains 73.43% of the \n",
    "# variability in the response variable. We can see the same \n",
    "# values in annova output as well as in the MLR output. "
   ]
  },
  {
   "cell_type": "code",
   "execution_count": 54,
   "metadata": {
    "collapsed": true
   },
   "outputs": [],
   "source": [
    "# (B) Fit a multiple linear regression model relating medv \n",
    "# to all of the explanatory variables listed above - except \n",
    "# indus - and calculate and interpret that value of R^2. "
   ]
  },
  {
   "cell_type": "code",
   "execution_count": 55,
   "metadata": {},
   "outputs": [
    {
     "data": {
      "text/html": [
       "<table class=\"simpletable\">\n",
       "<caption>OLS Regression Results</caption>\n",
       "<tr>\n",
       "  <th>Dep. Variable:</th>            <td>y</td>        <th>  R-squared:         </th> <td>   0.734</td> \n",
       "</tr>\n",
       "<tr>\n",
       "  <th>Model:</th>                   <td>OLS</td>       <th>  Adj. R-squared:    </th> <td>   0.728</td> \n",
       "</tr>\n",
       "<tr>\n",
       "  <th>Method:</th>             <td>Least Squares</td>  <th>  F-statistic:       </th> <td>   124.1</td> \n",
       "</tr>\n",
       "<tr>\n",
       "  <th>Date:</th>             <td>Thu, 19 Oct 2017</td> <th>  Prob (F-statistic):</th> <td>2.00e-134</td>\n",
       "</tr>\n",
       "<tr>\n",
       "  <th>Time:</th>                 <td>22:29:38</td>     <th>  Log-Likelihood:    </th> <td> -1504.9</td> \n",
       "</tr>\n",
       "<tr>\n",
       "  <th>No. Observations:</th>      <td>   506</td>      <th>  AIC:               </th> <td>   3034.</td> \n",
       "</tr>\n",
       "<tr>\n",
       "  <th>Df Residuals:</th>          <td>   494</td>      <th>  BIC:               </th> <td>   3085.</td> \n",
       "</tr>\n",
       "<tr>\n",
       "  <th>Df Model:</th>              <td>    11</td>      <th>                     </th>     <td> </td>    \n",
       "</tr>\n",
       "<tr>\n",
       "  <th>Covariance Type:</th>      <td>nonrobust</td>    <th>                     </th>     <td> </td>    \n",
       "</tr>\n",
       "</table>\n",
       "<table class=\"simpletable\">\n",
       "<tr>\n",
       "      <td></td>         <th>coef</th>     <th>std err</th>      <th>t</th>      <th>P>|t|</th>  <th>[0.025</th>    <th>0.975]</th>  \n",
       "</tr>\n",
       "<tr>\n",
       "  <th>Intercept</th> <td>   41.5437</td> <td>    4.920</td> <td>    8.445</td> <td> 0.000</td> <td>   31.878</td> <td>   51.210</td>\n",
       "</tr>\n",
       "<tr>\n",
       "  <th>x1</th>        <td>   -0.1216</td> <td>    0.033</td> <td>   -3.691</td> <td> 0.000</td> <td>   -0.186</td> <td>   -0.057</td>\n",
       "</tr>\n",
       "<tr>\n",
       "  <th>x2</th>        <td>    0.0466</td> <td>    0.014</td> <td>    3.383</td> <td> 0.001</td> <td>    0.020</td> <td>    0.074</td>\n",
       "</tr>\n",
       "<tr>\n",
       "  <th>x4</th>        <td>    2.8591</td> <td>    0.865</td> <td>    3.307</td> <td> 0.001</td> <td>    1.160</td> <td>    4.558</td>\n",
       "</tr>\n",
       "<tr>\n",
       "  <th>x5</th>        <td>  -18.5349</td> <td>    3.708</td> <td>   -4.999</td> <td> 0.000</td> <td>  -25.819</td> <td>  -11.250</td>\n",
       "</tr>\n",
       "<tr>\n",
       "  <th>x6</th>        <td>    3.6500</td> <td>    0.418</td> <td>    8.728</td> <td> 0.000</td> <td>    2.828</td> <td>    4.472</td>\n",
       "</tr>\n",
       "<tr>\n",
       "  <th>x7</th>        <td>    0.0036</td> <td>    0.013</td> <td>    0.271</td> <td> 0.787</td> <td>   -0.023</td> <td>    0.030</td>\n",
       "</tr>\n",
       "<tr>\n",
       "  <th>x8</th>        <td>   -1.5000</td> <td>    0.197</td> <td>   -7.617</td> <td> 0.000</td> <td>   -1.887</td> <td>   -1.113</td>\n",
       "</tr>\n",
       "<tr>\n",
       "  <th>x9</th>        <td>    0.2854</td> <td>    0.064</td> <td>    4.443</td> <td> 0.000</td> <td>    0.159</td> <td>    0.412</td>\n",
       "</tr>\n",
       "<tr>\n",
       "  <th>x10</th>       <td>   -0.0123</td> <td>    0.003</td> <td>   -3.611</td> <td> 0.000</td> <td>   -0.019</td> <td>   -0.006</td>\n",
       "</tr>\n",
       "<tr>\n",
       "  <th>x11</th>       <td>   -0.9338</td> <td>    0.131</td> <td>   -7.130</td> <td> 0.000</td> <td>   -1.191</td> <td>   -0.676</td>\n",
       "</tr>\n",
       "<tr>\n",
       "  <th>x12</th>       <td>   -0.5511</td> <td>    0.050</td> <td>  -10.927</td> <td> 0.000</td> <td>   -0.650</td> <td>   -0.452</td>\n",
       "</tr>\n",
       "</table>\n",
       "<table class=\"simpletable\">\n",
       "<tr>\n",
       "  <th>Omnibus:</th>       <td>171.179</td> <th>  Durbin-Watson:     </th> <td>   1.077</td> \n",
       "</tr>\n",
       "<tr>\n",
       "  <th>Prob(Omnibus):</th> <td> 0.000</td>  <th>  Jarque-Bera (JB):  </th> <td> 710.910</td> \n",
       "</tr>\n",
       "<tr>\n",
       "  <th>Skew:</th>          <td> 1.477</td>  <th>  Prob(JB):          </th> <td>4.24e-155</td>\n",
       "</tr>\n",
       "<tr>\n",
       "  <th>Kurtosis:</th>      <td> 7.999</td>  <th>  Cond. No.          </th> <td>1.16e+04</td> \n",
       "</tr>\n",
       "</table>"
      ],
      "text/plain": [
       "<class 'statsmodels.iolib.summary.Summary'>\n",
       "\"\"\"\n",
       "                            OLS Regression Results                            \n",
       "==============================================================================\n",
       "Dep. Variable:                      y   R-squared:                       0.734\n",
       "Model:                            OLS   Adj. R-squared:                  0.728\n",
       "Method:                 Least Squares   F-statistic:                     124.1\n",
       "Date:                Thu, 19 Oct 2017   Prob (F-statistic):          2.00e-134\n",
       "Time:                        22:29:38   Log-Likelihood:                -1504.9\n",
       "No. Observations:                 506   AIC:                             3034.\n",
       "Df Residuals:                     494   BIC:                             3085.\n",
       "Df Model:                          11                                         \n",
       "Covariance Type:            nonrobust                                         \n",
       "==============================================================================\n",
       "                 coef    std err          t      P>|t|      [0.025      0.975]\n",
       "------------------------------------------------------------------------------\n",
       "Intercept     41.5437      4.920      8.445      0.000      31.878      51.210\n",
       "x1            -0.1216      0.033     -3.691      0.000      -0.186      -0.057\n",
       "x2             0.0466      0.014      3.383      0.001       0.020       0.074\n",
       "x4             2.8591      0.865      3.307      0.001       1.160       4.558\n",
       "x5           -18.5349      3.708     -4.999      0.000     -25.819     -11.250\n",
       "x6             3.6500      0.418      8.728      0.000       2.828       4.472\n",
       "x7             0.0036      0.013      0.271      0.787      -0.023       0.030\n",
       "x8            -1.5000      0.197     -7.617      0.000      -1.887      -1.113\n",
       "x9             0.2854      0.064      4.443      0.000       0.159       0.412\n",
       "x10           -0.0123      0.003     -3.611      0.000      -0.019      -0.006\n",
       "x11           -0.9338      0.131     -7.130      0.000      -1.191      -0.676\n",
       "x12           -0.5511      0.050    -10.927      0.000      -0.650      -0.452\n",
       "==============================================================================\n",
       "Omnibus:                      171.179   Durbin-Watson:                   1.077\n",
       "Prob(Omnibus):                  0.000   Jarque-Bera (JB):              710.910\n",
       "Skew:                           1.477   Prob(JB):                    4.24e-155\n",
       "Kurtosis:                       7.999   Cond. No.                     1.16e+04\n",
       "==============================================================================\n",
       "\n",
       "Warnings:\n",
       "[1] Standard Errors assume that the covariance matrix of the errors is correctly specified.\n",
       "[2] The condition number is large, 1.16e+04. This might indicate that there are\n",
       "strong multicollinearity or other numerical problems.\n",
       "\"\"\""
      ]
     },
     "execution_count": 55,
     "metadata": {},
     "output_type": "execute_result"
    }
   ],
   "source": [
    "lm = smf.ols('y ~ x1 + x2 + x4 + x5 + x6 + x7 + x8 + x9 + x10 + x11 + x12', data = bostonData)\n",
    "model2 = lm.fit()\n",
    "model2.summary()"
   ]
  },
  {
   "cell_type": "code",
   "execution_count": 56,
   "metadata": {},
   "outputs": [
    {
     "name": "stdout",
     "output_type": "stream",
     "text": [
      "             df        sum_sq       mean_sq           F        PR(>F)\n",
      "x1          1.0   6440.783059   6440.783059  280.317768  3.643084e-50\n",
      "x2          1.0   3554.336197   3554.336197  154.692928  4.367888e-31\n",
      "x4          1.0   1233.791018   1233.791018   53.697437  9.603693e-13\n",
      "x5          1.0   1592.392109   1592.392109   69.304586  8.332584e-16\n",
      "x6          1.0  12090.956846  12090.956846  526.226393  7.948918e-80\n",
      "x7          1.0    122.792725    122.792725    5.344223  2.120153e-02\n",
      "x8          1.0   1509.628920   1509.628920   65.702541  4.157204e-15\n",
      "x9          1.0    109.890984    109.890984    4.782710  2.921508e-02\n",
      "x10         1.0    602.891821    602.891821   26.239246  4.332236e-07\n",
      "x11         1.0   1365.119628   1365.119628   59.413162  7.075793e-14\n",
      "x12         1.0   2743.212102   2743.212102  119.390932  4.854223e-25\n",
      "Residual  494.0  11350.500006     22.976721         NaN           NaN\n"
     ]
    },
    {
     "data": {
      "text/html": [
       "<table class=\"simpletable\">\n",
       "<caption>OLS Regression Results</caption>\n",
       "<tr>\n",
       "  <th>Dep. Variable:</th>            <td>y</td>        <th>  R-squared:         </th> <td>   0.734</td> \n",
       "</tr>\n",
       "<tr>\n",
       "  <th>Model:</th>                   <td>OLS</td>       <th>  Adj. R-squared:    </th> <td>   0.728</td> \n",
       "</tr>\n",
       "<tr>\n",
       "  <th>Method:</th>             <td>Least Squares</td>  <th>  F-statistic:       </th> <td>   124.1</td> \n",
       "</tr>\n",
       "<tr>\n",
       "  <th>Date:</th>             <td>Thu, 19 Oct 2017</td> <th>  Prob (F-statistic):</th> <td>2.00e-134</td>\n",
       "</tr>\n",
       "<tr>\n",
       "  <th>Time:</th>                 <td>22:29:38</td>     <th>  Log-Likelihood:    </th> <td> -1504.9</td> \n",
       "</tr>\n",
       "<tr>\n",
       "  <th>No. Observations:</th>      <td>   506</td>      <th>  AIC:               </th> <td>   3034.</td> \n",
       "</tr>\n",
       "<tr>\n",
       "  <th>Df Residuals:</th>          <td>   494</td>      <th>  BIC:               </th> <td>   3085.</td> \n",
       "</tr>\n",
       "<tr>\n",
       "  <th>Df Model:</th>              <td>    11</td>      <th>                     </th>     <td> </td>    \n",
       "</tr>\n",
       "<tr>\n",
       "  <th>Covariance Type:</th>      <td>nonrobust</td>    <th>                     </th>     <td> </td>    \n",
       "</tr>\n",
       "</table>\n",
       "<table class=\"simpletable\">\n",
       "<tr>\n",
       "      <td></td>         <th>coef</th>     <th>std err</th>      <th>t</th>      <th>P>|t|</th>  <th>[0.025</th>    <th>0.975]</th>  \n",
       "</tr>\n",
       "<tr>\n",
       "  <th>Intercept</th> <td>   41.5437</td> <td>    4.920</td> <td>    8.445</td> <td> 0.000</td> <td>   31.878</td> <td>   51.210</td>\n",
       "</tr>\n",
       "<tr>\n",
       "  <th>x1</th>        <td>   -0.1216</td> <td>    0.033</td> <td>   -3.691</td> <td> 0.000</td> <td>   -0.186</td> <td>   -0.057</td>\n",
       "</tr>\n",
       "<tr>\n",
       "  <th>x2</th>        <td>    0.0466</td> <td>    0.014</td> <td>    3.383</td> <td> 0.001</td> <td>    0.020</td> <td>    0.074</td>\n",
       "</tr>\n",
       "<tr>\n",
       "  <th>x4</th>        <td>    2.8591</td> <td>    0.865</td> <td>    3.307</td> <td> 0.001</td> <td>    1.160</td> <td>    4.558</td>\n",
       "</tr>\n",
       "<tr>\n",
       "  <th>x5</th>        <td>  -18.5349</td> <td>    3.708</td> <td>   -4.999</td> <td> 0.000</td> <td>  -25.819</td> <td>  -11.250</td>\n",
       "</tr>\n",
       "<tr>\n",
       "  <th>x6</th>        <td>    3.6500</td> <td>    0.418</td> <td>    8.728</td> <td> 0.000</td> <td>    2.828</td> <td>    4.472</td>\n",
       "</tr>\n",
       "<tr>\n",
       "  <th>x7</th>        <td>    0.0036</td> <td>    0.013</td> <td>    0.271</td> <td> 0.787</td> <td>   -0.023</td> <td>    0.030</td>\n",
       "</tr>\n",
       "<tr>\n",
       "  <th>x8</th>        <td>   -1.5000</td> <td>    0.197</td> <td>   -7.617</td> <td> 0.000</td> <td>   -1.887</td> <td>   -1.113</td>\n",
       "</tr>\n",
       "<tr>\n",
       "  <th>x9</th>        <td>    0.2854</td> <td>    0.064</td> <td>    4.443</td> <td> 0.000</td> <td>    0.159</td> <td>    0.412</td>\n",
       "</tr>\n",
       "<tr>\n",
       "  <th>x10</th>       <td>   -0.0123</td> <td>    0.003</td> <td>   -3.611</td> <td> 0.000</td> <td>   -0.019</td> <td>   -0.006</td>\n",
       "</tr>\n",
       "<tr>\n",
       "  <th>x11</th>       <td>   -0.9338</td> <td>    0.131</td> <td>   -7.130</td> <td> 0.000</td> <td>   -1.191</td> <td>   -0.676</td>\n",
       "</tr>\n",
       "<tr>\n",
       "  <th>x12</th>       <td>   -0.5511</td> <td>    0.050</td> <td>  -10.927</td> <td> 0.000</td> <td>   -0.650</td> <td>   -0.452</td>\n",
       "</tr>\n",
       "</table>\n",
       "<table class=\"simpletable\">\n",
       "<tr>\n",
       "  <th>Omnibus:</th>       <td>171.179</td> <th>  Durbin-Watson:     </th> <td>   1.077</td> \n",
       "</tr>\n",
       "<tr>\n",
       "  <th>Prob(Omnibus):</th> <td> 0.000</td>  <th>  Jarque-Bera (JB):  </th> <td> 710.910</td> \n",
       "</tr>\n",
       "<tr>\n",
       "  <th>Skew:</th>          <td> 1.477</td>  <th>  Prob(JB):          </th> <td>4.24e-155</td>\n",
       "</tr>\n",
       "<tr>\n",
       "  <th>Kurtosis:</th>      <td> 7.999</td>  <th>  Cond. No.          </th> <td>1.16e+04</td> \n",
       "</tr>\n",
       "</table>"
      ],
      "text/plain": [
       "<class 'statsmodels.iolib.summary.Summary'>\n",
       "\"\"\"\n",
       "                            OLS Regression Results                            \n",
       "==============================================================================\n",
       "Dep. Variable:                      y   R-squared:                       0.734\n",
       "Model:                            OLS   Adj. R-squared:                  0.728\n",
       "Method:                 Least Squares   F-statistic:                     124.1\n",
       "Date:                Thu, 19 Oct 2017   Prob (F-statistic):          2.00e-134\n",
       "Time:                        22:29:38   Log-Likelihood:                -1504.9\n",
       "No. Observations:                 506   AIC:                             3034.\n",
       "Df Residuals:                     494   BIC:                             3085.\n",
       "Df Model:                          11                                         \n",
       "Covariance Type:            nonrobust                                         \n",
       "==============================================================================\n",
       "                 coef    std err          t      P>|t|      [0.025      0.975]\n",
       "------------------------------------------------------------------------------\n",
       "Intercept     41.5437      4.920      8.445      0.000      31.878      51.210\n",
       "x1            -0.1216      0.033     -3.691      0.000      -0.186      -0.057\n",
       "x2             0.0466      0.014      3.383      0.001       0.020       0.074\n",
       "x4             2.8591      0.865      3.307      0.001       1.160       4.558\n",
       "x5           -18.5349      3.708     -4.999      0.000     -25.819     -11.250\n",
       "x6             3.6500      0.418      8.728      0.000       2.828       4.472\n",
       "x7             0.0036      0.013      0.271      0.787      -0.023       0.030\n",
       "x8            -1.5000      0.197     -7.617      0.000      -1.887      -1.113\n",
       "x9             0.2854      0.064      4.443      0.000       0.159       0.412\n",
       "x10           -0.0123      0.003     -3.611      0.000      -0.019      -0.006\n",
       "x11           -0.9338      0.131     -7.130      0.000      -1.191      -0.676\n",
       "x12           -0.5511      0.050    -10.927      0.000      -0.650      -0.452\n",
       "==============================================================================\n",
       "Omnibus:                      171.179   Durbin-Watson:                   1.077\n",
       "Prob(Omnibus):                  0.000   Jarque-Bera (JB):              710.910\n",
       "Skew:                           1.477   Prob(JB):                    4.24e-155\n",
       "Kurtosis:                       7.999   Cond. No.                     1.16e+04\n",
       "==============================================================================\n",
       "\n",
       "Warnings:\n",
       "[1] Standard Errors assume that the covariance matrix of the errors is correctly specified.\n",
       "[2] The condition number is large, 1.16e+04. This might indicate that there are\n",
       "strong multicollinearity or other numerical problems.\n",
       "\"\"\""
      ]
     },
     "execution_count": 56,
     "metadata": {},
     "output_type": "execute_result"
    }
   ],
   "source": [
    "table = sm.stats.anova_lm(model2, type = 2)\n",
    "print(table)\n",
    "model2.summary()"
   ]
  },
  {
   "cell_type": "code",
   "execution_count": 57,
   "metadata": {
    "collapsed": true
   },
   "outputs": [],
   "source": [
    "# Interpretation : R squared in calculated by dividing \n",
    "# Residual sum of squares/ total sum of squares. In this \n",
    "# model the SSR = 31365.8, value of SSE = 11350.5, value of \n",
    "# SST = 42696.3 . R^2 = SSR/SST = 28815.5/40166 = .7343, \n",
    "# meaning that the fitted model explains 73.43% of the \n",
    "# variability in the response variable. We can see the same \n",
    "# values in annova output as well as in the MLR output \n",
    "# (Excluding indus variable)"
   ]
  },
  {
   "cell_type": "code",
   "execution_count": 58,
   "metadata": {
    "collapsed": true
   },
   "outputs": [],
   "source": [
    "# (C) Fit a linear regression model ralting medv to all of \n",
    "# the explanatory variables listed above - except indus and \n",
    "# age - and calculate and interpret that value of R^2. "
   ]
  },
  {
   "cell_type": "code",
   "execution_count": 59,
   "metadata": {},
   "outputs": [
    {
     "data": {
      "text/html": [
       "<table class=\"simpletable\">\n",
       "<caption>OLS Regression Results</caption>\n",
       "<tr>\n",
       "  <th>Dep. Variable:</th>            <td>y</td>        <th>  R-squared:         </th> <td>   0.734</td> \n",
       "</tr>\n",
       "<tr>\n",
       "  <th>Model:</th>                   <td>OLS</td>       <th>  Adj. R-squared:    </th> <td>   0.729</td> \n",
       "</tr>\n",
       "<tr>\n",
       "  <th>Method:</th>             <td>Least Squares</td>  <th>  F-statistic:       </th> <td>   136.8</td> \n",
       "</tr>\n",
       "<tr>\n",
       "  <th>Date:</th>             <td>Thu, 19 Oct 2017</td> <th>  Prob (F-statistic):</th> <td>1.73e-135</td>\n",
       "</tr>\n",
       "<tr>\n",
       "  <th>Time:</th>                 <td>22:29:38</td>     <th>  Log-Likelihood:    </th> <td> -1505.0</td> \n",
       "</tr>\n",
       "<tr>\n",
       "  <th>No. Observations:</th>      <td>   506</td>      <th>  AIC:               </th> <td>   3032.</td> \n",
       "</tr>\n",
       "<tr>\n",
       "  <th>Df Residuals:</th>          <td>   495</td>      <th>  BIC:               </th> <td>   3078.</td> \n",
       "</tr>\n",
       "<tr>\n",
       "  <th>Df Model:</th>              <td>    10</td>      <th>                     </th>     <td> </td>    \n",
       "</tr>\n",
       "<tr>\n",
       "  <th>Covariance Type:</th>      <td>nonrobust</td>    <th>                     </th>     <td> </td>    \n",
       "</tr>\n",
       "</table>\n",
       "<table class=\"simpletable\">\n",
       "<tr>\n",
       "      <td></td>         <th>coef</th>     <th>std err</th>      <th>t</th>      <th>P>|t|</th>  <th>[0.025</th>    <th>0.975]</th>  \n",
       "</tr>\n",
       "<tr>\n",
       "  <th>Intercept</th> <td>   41.4517</td> <td>    4.903</td> <td>    8.454</td> <td> 0.000</td> <td>   31.818</td> <td>   51.086</td>\n",
       "</tr>\n",
       "<tr>\n",
       "  <th>x1</th>        <td>   -0.1217</td> <td>    0.033</td> <td>   -3.696</td> <td> 0.000</td> <td>   -0.186</td> <td>   -0.057</td>\n",
       "</tr>\n",
       "<tr>\n",
       "  <th>x2</th>        <td>    0.0462</td> <td>    0.014</td> <td>    3.378</td> <td> 0.001</td> <td>    0.019</td> <td>    0.073</td>\n",
       "</tr>\n",
       "<tr>\n",
       "  <th>x4</th>        <td>    2.8719</td> <td>    0.863</td> <td>    3.329</td> <td> 0.001</td> <td>    1.177</td> <td>    4.567</td>\n",
       "</tr>\n",
       "<tr>\n",
       "  <th>x5</th>        <td>  -18.2624</td> <td>    3.565</td> <td>   -5.122</td> <td> 0.000</td> <td>  -25.267</td> <td>  -11.258</td>\n",
       "</tr>\n",
       "<tr>\n",
       "  <th>x6</th>        <td>    3.6730</td> <td>    0.409</td> <td>    8.978</td> <td> 0.000</td> <td>    2.869</td> <td>    4.477</td>\n",
       "</tr>\n",
       "<tr>\n",
       "  <th>x8</th>        <td>   -1.5160</td> <td>    0.188</td> <td>   -8.078</td> <td> 0.000</td> <td>   -1.885</td> <td>   -1.147</td>\n",
       "</tr>\n",
       "<tr>\n",
       "  <th>x9</th>        <td>    0.2839</td> <td>    0.064</td> <td>    4.440</td> <td> 0.000</td> <td>    0.158</td> <td>    0.410</td>\n",
       "</tr>\n",
       "<tr>\n",
       "  <th>x10</th>       <td>   -0.0123</td> <td>    0.003</td> <td>   -3.608</td> <td> 0.000</td> <td>   -0.019</td> <td>   -0.006</td>\n",
       "</tr>\n",
       "<tr>\n",
       "  <th>x11</th>       <td>   -0.9310</td> <td>    0.130</td> <td>   -7.138</td> <td> 0.000</td> <td>   -1.187</td> <td>   -0.675</td>\n",
       "</tr>\n",
       "<tr>\n",
       "  <th>x12</th>       <td>   -0.5465</td> <td>    0.047</td> <td>  -11.519</td> <td> 0.000</td> <td>   -0.640</td> <td>   -0.453</td>\n",
       "</tr>\n",
       "</table>\n",
       "<table class=\"simpletable\">\n",
       "<tr>\n",
       "  <th>Omnibus:</th>       <td>172.594</td> <th>  Durbin-Watson:     </th> <td>   1.074</td> \n",
       "</tr>\n",
       "<tr>\n",
       "  <th>Prob(Omnibus):</th> <td> 0.000</td>  <th>  Jarque-Bera (JB):  </th> <td> 725.971</td> \n",
       "</tr>\n",
       "<tr>\n",
       "  <th>Skew:</th>          <td> 1.486</td>  <th>  Prob(JB):          </th> <td>2.28e-158</td>\n",
       "</tr>\n",
       "<tr>\n",
       "  <th>Kurtosis:</th>      <td> 8.060</td>  <th>  Cond. No.          </th> <td>1.13e+04</td> \n",
       "</tr>\n",
       "</table>"
      ],
      "text/plain": [
       "<class 'statsmodels.iolib.summary.Summary'>\n",
       "\"\"\"\n",
       "                            OLS Regression Results                            \n",
       "==============================================================================\n",
       "Dep. Variable:                      y   R-squared:                       0.734\n",
       "Model:                            OLS   Adj. R-squared:                  0.729\n",
       "Method:                 Least Squares   F-statistic:                     136.8\n",
       "Date:                Thu, 19 Oct 2017   Prob (F-statistic):          1.73e-135\n",
       "Time:                        22:29:38   Log-Likelihood:                -1505.0\n",
       "No. Observations:                 506   AIC:                             3032.\n",
       "Df Residuals:                     495   BIC:                             3078.\n",
       "Df Model:                          10                                         \n",
       "Covariance Type:            nonrobust                                         \n",
       "==============================================================================\n",
       "                 coef    std err          t      P>|t|      [0.025      0.975]\n",
       "------------------------------------------------------------------------------\n",
       "Intercept     41.4517      4.903      8.454      0.000      31.818      51.086\n",
       "x1            -0.1217      0.033     -3.696      0.000      -0.186      -0.057\n",
       "x2             0.0462      0.014      3.378      0.001       0.019       0.073\n",
       "x4             2.8719      0.863      3.329      0.001       1.177       4.567\n",
       "x5           -18.2624      3.565     -5.122      0.000     -25.267     -11.258\n",
       "x6             3.6730      0.409      8.978      0.000       2.869       4.477\n",
       "x8            -1.5160      0.188     -8.078      0.000      -1.885      -1.147\n",
       "x9             0.2839      0.064      4.440      0.000       0.158       0.410\n",
       "x10           -0.0123      0.003     -3.608      0.000      -0.019      -0.006\n",
       "x11           -0.9310      0.130     -7.138      0.000      -1.187      -0.675\n",
       "x12           -0.5465      0.047    -11.519      0.000      -0.640      -0.453\n",
       "==============================================================================\n",
       "Omnibus:                      172.594   Durbin-Watson:                   1.074\n",
       "Prob(Omnibus):                  0.000   Jarque-Bera (JB):              725.971\n",
       "Skew:                           1.486   Prob(JB):                    2.28e-158\n",
       "Kurtosis:                       8.060   Cond. No.                     1.13e+04\n",
       "==============================================================================\n",
       "\n",
       "Warnings:\n",
       "[1] Standard Errors assume that the covariance matrix of the errors is correctly specified.\n",
       "[2] The condition number is large, 1.13e+04. This might indicate that there are\n",
       "strong multicollinearity or other numerical problems.\n",
       "\"\"\""
      ]
     },
     "execution_count": 59,
     "metadata": {},
     "output_type": "execute_result"
    }
   ],
   "source": [
    "lm = smf.ols('y ~ x1 + x2 + x4 + x5 + x6 + x8 + x9 + x10 + x11 + x12', data = bostonData)\n",
    "model3 = lm.fit()\n",
    "model3.summary()"
   ]
  },
  {
   "cell_type": "code",
   "execution_count": 60,
   "metadata": {},
   "outputs": [
    {
     "name": "stdout",
     "output_type": "stream",
     "text": [
      "             df        sum_sq       mean_sq           F        PR(>F)\n",
      "x1          1.0   6440.783059   6440.783059  280.843485  2.946041e-50\n",
      "x2          1.0   3554.336197   3554.336197  154.983044  3.841619e-31\n",
      "x4          1.0   1233.791018   1233.791018   53.798143  9.145368e-13\n",
      "x5          1.0   1592.392109   1592.392109   69.434562  7.831350e-16\n",
      "x6          1.0  12090.956846  12090.956846  527.213295  5.631685e-80\n",
      "x8          1.0   1122.013878   1122.013878   48.924220  8.670141e-12\n",
      "x9          1.0     97.530139     97.530139    4.252698  3.970932e-02\n",
      "x10         1.0    669.324369    669.324369   29.185176  1.023672e-07\n",
      "x11         1.0   1519.747622   1519.747622   66.266976  3.216568e-15\n",
      "x12         1.0   3043.233699   3043.233699  132.696964  2.292538e-27\n",
      "Residual  495.0  11352.186479     22.933710         NaN           NaN\n"
     ]
    },
    {
     "data": {
      "text/html": [
       "<table class=\"simpletable\">\n",
       "<caption>OLS Regression Results</caption>\n",
       "<tr>\n",
       "  <th>Dep. Variable:</th>            <td>y</td>        <th>  R-squared:         </th> <td>   0.734</td> \n",
       "</tr>\n",
       "<tr>\n",
       "  <th>Model:</th>                   <td>OLS</td>       <th>  Adj. R-squared:    </th> <td>   0.729</td> \n",
       "</tr>\n",
       "<tr>\n",
       "  <th>Method:</th>             <td>Least Squares</td>  <th>  F-statistic:       </th> <td>   136.8</td> \n",
       "</tr>\n",
       "<tr>\n",
       "  <th>Date:</th>             <td>Thu, 19 Oct 2017</td> <th>  Prob (F-statistic):</th> <td>1.73e-135</td>\n",
       "</tr>\n",
       "<tr>\n",
       "  <th>Time:</th>                 <td>22:29:38</td>     <th>  Log-Likelihood:    </th> <td> -1505.0</td> \n",
       "</tr>\n",
       "<tr>\n",
       "  <th>No. Observations:</th>      <td>   506</td>      <th>  AIC:               </th> <td>   3032.</td> \n",
       "</tr>\n",
       "<tr>\n",
       "  <th>Df Residuals:</th>          <td>   495</td>      <th>  BIC:               </th> <td>   3078.</td> \n",
       "</tr>\n",
       "<tr>\n",
       "  <th>Df Model:</th>              <td>    10</td>      <th>                     </th>     <td> </td>    \n",
       "</tr>\n",
       "<tr>\n",
       "  <th>Covariance Type:</th>      <td>nonrobust</td>    <th>                     </th>     <td> </td>    \n",
       "</tr>\n",
       "</table>\n",
       "<table class=\"simpletable\">\n",
       "<tr>\n",
       "      <td></td>         <th>coef</th>     <th>std err</th>      <th>t</th>      <th>P>|t|</th>  <th>[0.025</th>    <th>0.975]</th>  \n",
       "</tr>\n",
       "<tr>\n",
       "  <th>Intercept</th> <td>   41.4517</td> <td>    4.903</td> <td>    8.454</td> <td> 0.000</td> <td>   31.818</td> <td>   51.086</td>\n",
       "</tr>\n",
       "<tr>\n",
       "  <th>x1</th>        <td>   -0.1217</td> <td>    0.033</td> <td>   -3.696</td> <td> 0.000</td> <td>   -0.186</td> <td>   -0.057</td>\n",
       "</tr>\n",
       "<tr>\n",
       "  <th>x2</th>        <td>    0.0462</td> <td>    0.014</td> <td>    3.378</td> <td> 0.001</td> <td>    0.019</td> <td>    0.073</td>\n",
       "</tr>\n",
       "<tr>\n",
       "  <th>x4</th>        <td>    2.8719</td> <td>    0.863</td> <td>    3.329</td> <td> 0.001</td> <td>    1.177</td> <td>    4.567</td>\n",
       "</tr>\n",
       "<tr>\n",
       "  <th>x5</th>        <td>  -18.2624</td> <td>    3.565</td> <td>   -5.122</td> <td> 0.000</td> <td>  -25.267</td> <td>  -11.258</td>\n",
       "</tr>\n",
       "<tr>\n",
       "  <th>x6</th>        <td>    3.6730</td> <td>    0.409</td> <td>    8.978</td> <td> 0.000</td> <td>    2.869</td> <td>    4.477</td>\n",
       "</tr>\n",
       "<tr>\n",
       "  <th>x8</th>        <td>   -1.5160</td> <td>    0.188</td> <td>   -8.078</td> <td> 0.000</td> <td>   -1.885</td> <td>   -1.147</td>\n",
       "</tr>\n",
       "<tr>\n",
       "  <th>x9</th>        <td>    0.2839</td> <td>    0.064</td> <td>    4.440</td> <td> 0.000</td> <td>    0.158</td> <td>    0.410</td>\n",
       "</tr>\n",
       "<tr>\n",
       "  <th>x10</th>       <td>   -0.0123</td> <td>    0.003</td> <td>   -3.608</td> <td> 0.000</td> <td>   -0.019</td> <td>   -0.006</td>\n",
       "</tr>\n",
       "<tr>\n",
       "  <th>x11</th>       <td>   -0.9310</td> <td>    0.130</td> <td>   -7.138</td> <td> 0.000</td> <td>   -1.187</td> <td>   -0.675</td>\n",
       "</tr>\n",
       "<tr>\n",
       "  <th>x12</th>       <td>   -0.5465</td> <td>    0.047</td> <td>  -11.519</td> <td> 0.000</td> <td>   -0.640</td> <td>   -0.453</td>\n",
       "</tr>\n",
       "</table>\n",
       "<table class=\"simpletable\">\n",
       "<tr>\n",
       "  <th>Omnibus:</th>       <td>172.594</td> <th>  Durbin-Watson:     </th> <td>   1.074</td> \n",
       "</tr>\n",
       "<tr>\n",
       "  <th>Prob(Omnibus):</th> <td> 0.000</td>  <th>  Jarque-Bera (JB):  </th> <td> 725.971</td> \n",
       "</tr>\n",
       "<tr>\n",
       "  <th>Skew:</th>          <td> 1.486</td>  <th>  Prob(JB):          </th> <td>2.28e-158</td>\n",
       "</tr>\n",
       "<tr>\n",
       "  <th>Kurtosis:</th>      <td> 8.060</td>  <th>  Cond. No.          </th> <td>1.13e+04</td> \n",
       "</tr>\n",
       "</table>"
      ],
      "text/plain": [
       "<class 'statsmodels.iolib.summary.Summary'>\n",
       "\"\"\"\n",
       "                            OLS Regression Results                            \n",
       "==============================================================================\n",
       "Dep. Variable:                      y   R-squared:                       0.734\n",
       "Model:                            OLS   Adj. R-squared:                  0.729\n",
       "Method:                 Least Squares   F-statistic:                     136.8\n",
       "Date:                Thu, 19 Oct 2017   Prob (F-statistic):          1.73e-135\n",
       "Time:                        22:29:38   Log-Likelihood:                -1505.0\n",
       "No. Observations:                 506   AIC:                             3032.\n",
       "Df Residuals:                     495   BIC:                             3078.\n",
       "Df Model:                          10                                         \n",
       "Covariance Type:            nonrobust                                         \n",
       "==============================================================================\n",
       "                 coef    std err          t      P>|t|      [0.025      0.975]\n",
       "------------------------------------------------------------------------------\n",
       "Intercept     41.4517      4.903      8.454      0.000      31.818      51.086\n",
       "x1            -0.1217      0.033     -3.696      0.000      -0.186      -0.057\n",
       "x2             0.0462      0.014      3.378      0.001       0.019       0.073\n",
       "x4             2.8719      0.863      3.329      0.001       1.177       4.567\n",
       "x5           -18.2624      3.565     -5.122      0.000     -25.267     -11.258\n",
       "x6             3.6730      0.409      8.978      0.000       2.869       4.477\n",
       "x8            -1.5160      0.188     -8.078      0.000      -1.885      -1.147\n",
       "x9             0.2839      0.064      4.440      0.000       0.158       0.410\n",
       "x10           -0.0123      0.003     -3.608      0.000      -0.019      -0.006\n",
       "x11           -0.9310      0.130     -7.138      0.000      -1.187      -0.675\n",
       "x12           -0.5465      0.047    -11.519      0.000      -0.640      -0.453\n",
       "==============================================================================\n",
       "Omnibus:                      172.594   Durbin-Watson:                   1.074\n",
       "Prob(Omnibus):                  0.000   Jarque-Bera (JB):              725.971\n",
       "Skew:                           1.486   Prob(JB):                    2.28e-158\n",
       "Kurtosis:                       8.060   Cond. No.                     1.13e+04\n",
       "==============================================================================\n",
       "\n",
       "Warnings:\n",
       "[1] Standard Errors assume that the covariance matrix of the errors is correctly specified.\n",
       "[2] The condition number is large, 1.13e+04. This might indicate that there are\n",
       "strong multicollinearity or other numerical problems.\n",
       "\"\"\""
      ]
     },
     "execution_count": 60,
     "metadata": {},
     "output_type": "execute_result"
    }
   ],
   "source": [
    "table = sm.stats.anova_lm(model3, type = 2)\n",
    "print(table)\n",
    "model3.summary()"
   ]
  },
  {
   "cell_type": "code",
   "execution_count": 61,
   "metadata": {
    "collapsed": true
   },
   "outputs": [],
   "source": [
    "# Interpretation : R squared in calculated by dividing \n",
    "# Residual sum of squares/ total sum of squares. In this model \n",
    "# the SSR = 31364, value of SSE = 11352.2, value of \n",
    "# SST = 42716.2 . R^2 = SSR/SST = 31364/42716. = .7342, \n",
    "# meaning that the fitted model explains 73.42% of the \n",
    "# variability in the response variable. We can see the same \n",
    "# values in annova output as well as in the MLR output \n",
    "# (Excluding indus and age variables)"
   ]
  },
  {
   "cell_type": "code",
   "execution_count": 62,
   "metadata": {
    "collapsed": true
   },
   "outputs": [],
   "source": [
    "# (D)By commenting on R^2 value and relevant p-values, \n",
    "# comment on weather propertion of industrial land in a \n",
    "# neighborhood and the neighbourhood's age significantly \n",
    "# influence the median value of a house in that neighborhood. "
   ]
  },
  {
   "cell_type": "code",
   "execution_count": 63,
   "metadata": {
    "collapsed": true
   },
   "outputs": [],
   "source": [
    "# In total there are three regression models, I with \n",
    "# all the expalanatory variables, II without indus varibale \n",
    "# and III without age and indus variables.\n",
    "\n",
    "# The value of R^2 in the model is .7343 which is quite close \n",
    "# to 1, meaning that model account for a large proportion of the\n",
    "# response variability (larger values are better). Where as \n",
    "# P-value related with indus is 0.828520 meaning the variable\n",
    "# is not satistically significant and P-value related with age \n",
    "# is 0.786595 meaning both the variables are not satistically \n",
    "# significant at alpha value = 0.05. Hence, these variables \n",
    "# will not affect the median value of a house in a greater way. \n",
    "# The Beta estimate associated with indus is : 0.013468, which \n",
    "# means that for every proportion of industrial land in \n",
    "# neighborhood it will change the price of property by 0.013 \n",
    "# units, where as the Beta estimate associated with age in : \n",
    "# 0.003611, which means that is the age of the house is prior \n",
    "# to 1940 it will change the median value by 0.0036 units. \n"
   ]
  },
  {
   "cell_type": "code",
   "execution_count": 64,
   "metadata": {
    "collapsed": true
   },
   "outputs": [],
   "source": [
    "# (E) Use additional sum of squares principle to formally \n",
    "# test H_0 : beta_3 = beta_7 = 0 vs H_a : beta_j != 0. where \n",
    "# j = 3,7, and draw a conclusion, at a 5% level of significance,\n",
    "# regarding whether indus and age significantly influence medv. "
   ]
  },
  {
   "cell_type": "code",
   "execution_count": 65,
   "metadata": {},
   "outputs": [
    {
     "data": {
      "text/html": [
       "<table class=\"simpletable\">\n",
       "<caption>OLS Regression Results</caption>\n",
       "<tr>\n",
       "  <th>Dep. Variable:</th>            <td>y</td>        <th>  R-squared:         </th> <td>   0.241</td>\n",
       "</tr>\n",
       "<tr>\n",
       "  <th>Model:</th>                   <td>OLS</td>       <th>  Adj. R-squared:    </th> <td>   0.238</td>\n",
       "</tr>\n",
       "<tr>\n",
       "  <th>Method:</th>             <td>Least Squares</td>  <th>  F-statistic:       </th> <td>   79.96</td>\n",
       "</tr>\n",
       "<tr>\n",
       "  <th>Date:</th>             <td>Thu, 19 Oct 2017</td> <th>  Prob (F-statistic):</th> <td>7.03e-31</td>\n",
       "</tr>\n",
       "<tr>\n",
       "  <th>Time:</th>                 <td>22:29:38</td>     <th>  Log-Likelihood:    </th> <td> -1770.4</td>\n",
       "</tr>\n",
       "<tr>\n",
       "  <th>No. Observations:</th>      <td>   506</td>      <th>  AIC:               </th> <td>   3547.</td>\n",
       "</tr>\n",
       "<tr>\n",
       "  <th>Df Residuals:</th>          <td>   503</td>      <th>  BIC:               </th> <td>   3559.</td>\n",
       "</tr>\n",
       "<tr>\n",
       "  <th>Df Model:</th>              <td>     2</td>      <th>                     </th>     <td> </td>   \n",
       "</tr>\n",
       "<tr>\n",
       "  <th>Covariance Type:</th>      <td>nonrobust</td>    <th>                     </th>     <td> </td>   \n",
       "</tr>\n",
       "</table>\n",
       "<table class=\"simpletable\">\n",
       "<tr>\n",
       "      <td></td>         <th>coef</th>     <th>std err</th>      <th>t</th>      <th>P>|t|</th>  <th>[0.025</th>    <th>0.975]</th>  \n",
       "</tr>\n",
       "<tr>\n",
       "  <th>Intercept</th> <td>   31.1779</td> <td>    0.941</td> <td>   33.138</td> <td> 0.000</td> <td>   29.329</td> <td>   33.026</td>\n",
       "</tr>\n",
       "<tr>\n",
       "  <th>x3</th>        <td>   -0.5522</td> <td>    0.068</td> <td>   -8.107</td> <td> 0.000</td> <td>   -0.686</td> <td>   -0.418</td>\n",
       "</tr>\n",
       "<tr>\n",
       "  <th>x7</th>        <td>   -0.0364</td> <td>    0.017</td> <td>   -2.191</td> <td> 0.029</td> <td>   -0.069</td> <td>   -0.004</td>\n",
       "</tr>\n",
       "</table>\n",
       "<table class=\"simpletable\">\n",
       "<tr>\n",
       "  <th>Omnibus:</th>       <td>192.136</td> <th>  Durbin-Watson:     </th> <td>   0.669</td> \n",
       "</tr>\n",
       "<tr>\n",
       "  <th>Prob(Omnibus):</th> <td> 0.000</td>  <th>  Jarque-Bera (JB):  </th> <td> 654.356</td> \n",
       "</tr>\n",
       "<tr>\n",
       "  <th>Skew:</th>          <td> 1.778</td>  <th>  Prob(JB):          </th> <td>8.10e-143</td>\n",
       "</tr>\n",
       "<tr>\n",
       "  <th>Kurtosis:</th>      <td> 7.288</td>  <th>  Cond. No.          </th> <td>    198.</td> \n",
       "</tr>\n",
       "</table>"
      ],
      "text/plain": [
       "<class 'statsmodels.iolib.summary.Summary'>\n",
       "\"\"\"\n",
       "                            OLS Regression Results                            \n",
       "==============================================================================\n",
       "Dep. Variable:                      y   R-squared:                       0.241\n",
       "Model:                            OLS   Adj. R-squared:                  0.238\n",
       "Method:                 Least Squares   F-statistic:                     79.96\n",
       "Date:                Thu, 19 Oct 2017   Prob (F-statistic):           7.03e-31\n",
       "Time:                        22:29:38   Log-Likelihood:                -1770.4\n",
       "No. Observations:                 506   AIC:                             3547.\n",
       "Df Residuals:                     503   BIC:                             3559.\n",
       "Df Model:                           2                                         \n",
       "Covariance Type:            nonrobust                                         \n",
       "==============================================================================\n",
       "                 coef    std err          t      P>|t|      [0.025      0.975]\n",
       "------------------------------------------------------------------------------\n",
       "Intercept     31.1779      0.941     33.138      0.000      29.329      33.026\n",
       "x3            -0.5522      0.068     -8.107      0.000      -0.686      -0.418\n",
       "x7            -0.0364      0.017     -2.191      0.029      -0.069      -0.004\n",
       "==============================================================================\n",
       "Omnibus:                      192.136   Durbin-Watson:                   0.669\n",
       "Prob(Omnibus):                  0.000   Jarque-Bera (JB):              654.356\n",
       "Skew:                           1.778   Prob(JB):                    8.10e-143\n",
       "Kurtosis:                       7.288   Cond. No.                         198.\n",
       "==============================================================================\n",
       "\n",
       "Warnings:\n",
       "[1] Standard Errors assume that the covariance matrix of the errors is correctly specified.\n",
       "\"\"\""
      ]
     },
     "execution_count": 65,
     "metadata": {},
     "output_type": "execute_result"
    }
   ],
   "source": [
    "lm = smf.ols('y ~ x3 + x7', data = bostonData)\n",
    "model_reduced = lm.fit()\n",
    "model_reduced.summary()"
   ]
  },
  {
   "cell_type": "code",
   "execution_count": 66,
   "metadata": {},
   "outputs": [
    {
     "name": "stdout",
     "output_type": "stream",
     "text": [
      "11349.4188084\n"
     ]
    }
   ],
   "source": [
    "SSE_full = model1.ssr\n",
    "print(SSE_full)"
   ]
  },
  {
   "cell_type": "code",
   "execution_count": 67,
   "metadata": {},
   "outputs": [
    {
     "name": "stdout",
     "output_type": "stream",
     "text": [
      "32411.6503884\n"
     ]
    }
   ],
   "source": [
    "SSE_reduced = model_reduced.ssr\n",
    "print(SSE_reduced)"
   ]
  },
  {
   "cell_type": "code",
   "execution_count": 68,
   "metadata": {},
   "outputs": [
    {
     "name": "stdout",
     "output_type": "stream",
     "text": [
      "1.11022302463e-16\n",
      "457.454268993\n"
     ]
    }
   ],
   "source": [
    "l = 2\n",
    "n = bostonData.shape[0]\n",
    "p = 12\n",
    "F0 =((SSE_reduced - SSE_full)/l)/(SSE_full/(n-p-1))\n",
    "pval = 1 - stats.f.cdf(F0, dfn = l, dfd = n-p-1)\n",
    "print(pval)\n",
    "print(F0)"
   ]
  },
  {
   "cell_type": "code",
   "execution_count": 69,
   "metadata": {},
   "outputs": [
    {
     "name": "stdout",
     "output_type": "stream",
     "text": [
      "   df_resid           ssr  df_diff      ss_diff          F  Pr(>F)\n",
      "0     493.0  11349.418808      0.0          NaN        NaN     NaN\n",
      "1     503.0  32411.650388    -10.0 -21062.23158  32.686711     NaN\n"
     ]
    }
   ],
   "source": [
    "table = sm.stats.anova_lm(model1, model_reduced, type = 2)\n",
    "print(table)"
   ]
  },
  {
   "cell_type": "code",
   "execution_count": 70,
   "metadata": {
    "collapsed": true
   },
   "outputs": [],
   "source": [
    "# Since F0 is significantly large we obtained \n",
    "# a very small P-value and thus conclude that the variables \n",
    "# indus and age together are statistically significan, thus \n",
    "# we will reject the null hypothesis and will not drop indus \n",
    "# and age from our model. "
   ]
  },
  {
   "cell_type": "code",
   "execution_count": 71,
   "metadata": {
    "collapsed": true
   },
   "outputs": [],
   "source": [
    "# (F) In the context of the reduced model (i.e., without \n",
    "# indus and age), interpret each of the regression coefficients. "
   ]
  },
  {
   "cell_type": "code",
   "execution_count": 72,
   "metadata": {
    "collapsed": true
   },
   "outputs": [],
   "source": [
    "# The reduced model has 11 variables named as x1,x2...x12 \n",
    "# excluding x3 = indus, x7 = age. The coefficient associated \n",
    "# with the model are as follows:\n",
    "\n",
    "# Beta_1 : crim = -0.121665 which means that for every unit \n",
    "# increase in per capita crime in the neighborhood, the median \n",
    "# value of the house will decrease by -0.121665 or by $121.665\n",
    "\n",
    "# Beta_2 : zn = 0.046191, zn is the variable for proportion of \n",
    "# residential land zoned for lots over 25,000 sq. ft, meaning \n",
    "# for every increase in the land area over 25,000 sq ft the \n",
    "# median value of the house will increase by 0.046191 or by \n",
    "# $46.191\n",
    "\n",
    "# Beta_4 : chas = 2.871873, chas is a dummy variable (1,0) \n",
    "# indicating whether the neighborhood is adjacent to the \n",
    "# charles river or not, meaning if the house is closer the \n",
    "# charles river than the value of the house will increase by \n",
    "# 2.871873 or by $2871.873\n",
    "\n",
    "# Beta_5 : nox = -18.262427, nox is the variable for nitrogen \n",
    "# oxide pollution concentration, meaning that for every \n",
    "# increase in parts per million in the concentration of nox, \n",
    "# the median value of the house will decrease by -18.262427 or \n",
    "# by $18262.47. \n",
    "\n",
    "# Beta_6 : rm = 3.672957, rm is the variable for average \n",
    "# number of rooms per house, meaning for every average unit \n",
    "# increase in the number of rooms in the house the median value \n",
    "# of the house will increase by 3.672957 or by $3672.957\n",
    "\n",
    "# Beta_8: dis = -1.515951, dis is the weighted mean of distance \n",
    "# to five boston employment centers, meaning farther the mean \n",
    "# distance is from the employment center the median value will \n",
    "# decrease by -1.515951 or by $1515.951\n",
    "\n",
    "# Beta_9 : rad = 0.283932, rad is the index of the accessibility\n",
    "# to radial highways, meaning that is the index of the radial \n",
    "# highway is higher the median value of the house will increase \n",
    "# by 0.283932 or by $2839.32\n",
    "\n",
    "# Beta_10 : tax = -0.012292, tax is the property tax rate per \n",
    "# 10000, meaning that higher  tax rate will decrease the value \n",
    "# of the house by -0.012292 or by $12.292.\n",
    "\n",
    "# Beta_11 : ptratio = -0.930961, ptratio is the pupil-teacher \n",
    "# ratio, meaning for every unit decrease in the pupil teacher \n",
    "# ratio the value of the house will be affected by -0.930961 or \n",
    "# by $930.961\n",
    "\n",
    "# Beta_12: lstat = -0.546509, is the percent of population that \n",
    "#have a \"low\" socio-economic status, meaning for every percent \n",
    "# increase in the population with \"low\" socio-economica status \n",
    "# the value of the house will decrease by -0.546509 or by $546.509 "
   ]
  },
  {
   "cell_type": "code",
   "execution_count": 73,
   "metadata": {
    "collapsed": true
   },
   "outputs": [],
   "source": [
    "#(G) In the context of the reduced model (i.e., without indus \n",
    "# and age), provide a point prediction (and a 95% prediction \n",
    "# interval) for the median house value in a neigborhood for which\n",
    "# crim = 5\n",
    "# zn = 10\n",
    "# chas = 1\n",
    "# nox = 0.6\n",
    "# rm = 3\n",
    "# dis = 5\n",
    "# rad = 10\n",
    "# tax = 500\n",
    "# ptratio = 15\n",
    "# lstat = 10\n",
    "\n",
    "# As per the model the point prediction for the median house \n",
    "# value will be :\n",
    "\n",
    "# Yi = Beta_0 + Beta_1(x1) + beta_2(x2) +  beta_4(x4) + \n",
    "# beta_5(x5) + beta_6(x6) + beta_8(x8) + beta_9(x9) + \n",
    "# beta_10(x10) + beta_11(x11) + beta_12(x12)\n",
    "# where values of x1, x2...x12 are given above."
   ]
  },
  {
   "cell_type": "code",
   "execution_count": 74,
   "metadata": {},
   "outputs": [
    {
     "data": {
      "text/plain": [
       "array([  4.14517475e+01,  -1.21664883e-01,   4.61911866e-02,\n",
       "         2.87187265e+00,  -1.82624266e+01,   3.67295747e+00,\n",
       "        -1.51595105e+00,   2.83932259e-01,  -1.22915000e-02,\n",
       "        -9.30961442e-01,  -5.46509162e-01])"
      ]
     },
     "execution_count": 74,
     "metadata": {},
     "output_type": "execute_result"
    }
   ],
   "source": [
    "# First we will Estimate the Beta's manually. \n",
    "X = np.array([np.repeat(1, 506), bostonData['crim'], bostonData['zn'], bostonData['chas'], bostonData['nox'], bostonData['rm'], bostonData['dis'], bostonData['rad'], bostonData['tax'], bostonData['ptratio'], bostonData['lstat']]).transpose() # X matrix\n",
    "y = np.array(bostonData['medv']).transpose() # response vector\n",
    "beta_hat = np.matmul(np.linalg.inv(np.matmul(X.transpose(), X)), np.matmul(X.transpose(), y))\n",
    "beta_hat"
   ]
  },
  {
   "cell_type": "code",
   "execution_count": 75,
   "metadata": {},
   "outputs": [
    {
     "name": "stdout",
     "output_type": "stream",
     "text": [
      "('Median House Price: ', [0    15.438879\n",
      "dtype: float64, array([ 3.89712761]), array([ 23.94872853])])\n"
     ]
    }
   ],
   "source": [
    "#Prediction interval \n",
    "medv_pred = model3.predict({'x1': [5], 'x2': [10], 'x4': [1], 'x5': [0.6], 'x6': [3], 'x8': [4], 'x9': [10], 'x10': [500], 'x11': [15], 'x12': [10]})\n",
    "blah, pi_lo, pi_hi = pi(model3, exog = [1, 5, 10, 1, 0.6, 3, 5, 10, 500, 15, 10], weights = 1)\n",
    "print(\"Median House Price: \", [medv_pred, pi_lo, pi_hi])"
   ]
  },
  {
   "cell_type": "code",
   "execution_count": 76,
   "metadata": {
    "collapsed": true
   },
   "outputs": [],
   "source": [
    "# (H) In the context of the reduced model (i.e., without indus\n",
    "# and age), construct the following four plots\n",
    "# (i) Stundentized Residuals vs Index\n",
    "# (ii) Studentized Residuals vs Fitted Values\n",
    "# (iii) Histogram of Studentized residuals \n",
    "# (iv) QQ-Plot of studentized residuals. \n",
    "# Using these plots decide whether the residuals appear to \n",
    "# be independent, normally distributed and have constant \n",
    "# variance. "
   ]
  },
  {
   "cell_type": "code",
   "execution_count": 77,
   "metadata": {
    "collapsed": true
   },
   "outputs": [],
   "source": [
    "# First we will manually solve for stundetized residuals.\n",
    "n = len(model3.resid)\n",
    "index = np.linspace(1,n,n)\n",
    "sigma_hat = np.sqrt(model3.scale) # sigma-hat\n",
    "X = np.array([np.repeat(1,n),x1,x2,x4,x5,x6,x8,x9,x10,x11,x12]).transpose() # X matrix\n",
    "H = np.matmul(np.matmul(X, np.linalg.inv(np.matmul(X.transpose(), X))), X.transpose()) # Hat matrix\n",
    "h = np.diag(H) # diagonal elements of H\n",
    "st_resid = model3.resid/(sigma_hat*np.sqrt(1-h)) # 'Studentized' Residuals"
   ]
  },
  {
   "cell_type": "code",
   "execution_count": 78,
   "metadata": {},
   "outputs": [
    {
     "data": {
      "text/plain": [
       "(0, 507)"
      ]
     },
     "execution_count": 78,
     "metadata": {},
     "output_type": "execute_result"
    },
    {
     "data": {
      "image/png": "[encoded data removed]",
      "text/plain": [
       "<matplotlib.figure.Figure at 0x11bd7ad50>"
      ]
     },
     "metadata": {},
     "output_type": "display_data"
    }
   ],
   "source": [
    "# Plots: \n",
    "# (i) Stundentized residuals vs Index\n",
    "n = len(model3.resid)\n",
    "index = np.linspace(1,n,n)\n",
    "plt.figure()\n",
    "plt.scatter(x = index, y = st_resid, color = \"black\")\n",
    "plt.xlabel(\"Index\")\n",
    "plt.ylabel(\"Studentized residuals\")\n",
    "plt.title(\"Studentized residuals vs Index\")\n",
    "plt.hlines(y = 0, xmin = 0, xmax = n + 1, color = \"red\", linewidth = 2)\n",
    "plt.xlim(0,n+1)"
   ]
  },
  {
   "cell_type": "code",
   "execution_count": 79,
   "metadata": {},
   "outputs": [
    {
     "data": {
      "text/plain": [
       "(-3.0725580637814858, 44.797408406953423)"
      ]
     },
     "execution_count": 79,
     "metadata": {},
     "output_type": "execute_result"
    },
    {
     "data": {
      "image/png": "[encoded data removed]",
      "text/plain": [
       "<matplotlib.figure.Figure at 0x1205c74d0>"
      ]
     },
     "metadata": {},
     "output_type": "display_data"
    }
   ],
   "source": [
    "#(ii) Studentized Residuals vs Fitted Values. \n",
    "plt.figure()\n",
    "plt.scatter(x = model3.fittedvalues, y = st_resid, color = \"black\")\n",
    "plt.xlabel(\"Fitted Values\")\n",
    "plt.ylabel(\"Studentized Residuals\")\n",
    "plt.title(\"Studentized Residuals vs. Fitted Values\")\n",
    "plt.hlines(y = 0, xmin = np.min(model3.fittedvalues), xmax = np.max(model3.fittedvalues), color = \"red\", linewidth = 2)\n",
    "plt.xlim(np.min(model3.fittedvalues), np.max(model3.fittedvalues))"
   ]
  },
  {
   "cell_type": "code",
   "execution_count": 80,
   "metadata": {},
   "outputs": [
    {
     "data": {
      "text/plain": [
       "<matplotlib.text.Text at 0x120b23c10>"
      ]
     },
     "execution_count": 80,
     "metadata": {},
     "output_type": "execute_result"
    },
    {
     "data": {
      "image/png": "[encoded data removed]",
      "text/plain": [
       "<matplotlib.figure.Figure at 0x11bd8ba50>"
      ]
     },
     "metadata": {},
     "output_type": "display_data"
    }
   ],
   "source": [
    "#(iii) Histogram in stundetized residual. \n",
    "plt.hist(st_resid)\n",
    "plt.title(\"Histogram of Studentized residuals\")\n",
    "plt.xlabel(\"Studentized residuals\")\n",
    "plt.ylabel(\"Frequency\")\n"
   ]
  },
  {
   "cell_type": "code",
   "execution_count": 81,
   "metadata": {},
   "outputs": [
    {
     "data": {
      "text/plain": [
       "<matplotlib.text.Text at 0x120e4e790>"
      ]
     },
     "execution_count": 81,
     "metadata": {},
     "output_type": "execute_result"
    },
    {
     "data": {
      "image/png": "[encoded data removed]",
      "text/plain": [
       "<matplotlib.figure.Figure at 0x120c97890>"
      ]
     },
     "metadata": {},
     "output_type": "display_data"
    }
   ],
   "source": [
    "#(iv) QQ-Plot of the studentized residuals \n",
    "sm.qqplot(st_resid, dist = \"norm\", fit = True, line = '45')\n",
    "plt.title(\"QQ-plot of Residuals\")"
   ]
  },
  {
   "cell_type": "code",
   "execution_count": 82,
   "metadata": {
    "collapsed": true
   },
   "outputs": [],
   "source": [
    "# From the plots above we can say that residuals appear to \n",
    "# be normally distributed in case of index, however in case of \n",
    "# fitted values residuals are somewhat dependent thus do not \n",
    "# have a constant variance. To generalize even more we can see \n",
    "# from the histogram that residuals are slightly right-skewed \n",
    "# and from QQ-Plot we can verify that residuals are heavy \n",
    "# tailed (right skewed). "
   ]
  },
  {
   "cell_type": "code",
   "execution_count": 83,
   "metadata": {
    "collapsed": true
   },
   "outputs": [],
   "source": [
    "# (I) Suppose that any one of the residuals assumptions is not\n",
    "# satisfied. Indicate, from the list below, which inferences \n",
    "# would no longer be valid. \n",
    "# Parameter estimates \n",
    "# Hypothesis tests \n",
    "# Confidence interval\n",
    "# Prediction Interval for Y_0"
   ]
  },
  {
   "cell_type": "code",
   "execution_count": 84,
   "metadata": {
    "collapsed": true
   },
   "outputs": [],
   "source": [
    "# The prediction interval for Y_0, Confidence Interval, Hypothesis \n",
    "# test will no longer be valid becuase the non-random pattern in \n",
    "# the residuals indicates that the deterministic portion \n",
    "# (predictor variables) of the model is not capturing some \n",
    "# explanatory information that is “leaking” into the residuals. \n",
    "# The graph could represent several ways in which the model is not \n",
    "# explaining all that is possible."
   ]
  }
 ],
 "metadata": {
  "kernelspec": {
   "display_name": "Python 2",
   "language": "python",
   "name": "python2"
  },
  "language_info": {
   "codemirror_mode": {
    "name": "ipython",
    "version": 2
   },
   "file_extension": ".py",
   "mimetype": "text/x-python",
   "name": "python",
   "nbconvert_exporter": "python",
   "pygments_lexer": "ipython2",
   "version": "2.7.13"
  }
 },
 "nbformat": 4,
 "nbformat_minor": 2
}
